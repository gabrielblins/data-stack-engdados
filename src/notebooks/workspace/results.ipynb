{
 "cells": [
  {
   "cell_type": "code",
   "execution_count": 1,
   "id": "d13d5026-837d-4214-a97d-fb56e7517ac9",
   "metadata": {},
   "outputs": [
    {
     "name": "stdout",
     "output_type": "stream",
     "text": [
      "Collecting minio\n",
      "  Downloading minio-7.1.15-py3-none-any.whl (77 kB)\n",
      "\u001b[2K     \u001b[90m━━━━━━━━━━━━━━━━━━━━━━━━━━━━━━━━━━━━━━━━\u001b[0m \u001b[32m77.4/77.4 kB\u001b[0m \u001b[31m3.9 MB/s\u001b[0m eta \u001b[36m0:00:00\u001b[0m\n",
      "\u001b[?25hRequirement already satisfied: certifi in /opt/conda/lib/python3.10/site-packages (from minio) (2022.9.24)\n",
      "Requirement already satisfied: urllib3 in /opt/conda/lib/python3.10/site-packages (from minio) (1.26.11)\n",
      "Installing collected packages: minio\n",
      "Successfully installed minio-7.1.15\n"
     ]
    }
   ],
   "source": [
    "!pip install minio"
   ]
  },
  {
   "cell_type": "code",
   "execution_count": 9,
   "id": "09fa9cd1-7e35-46e8-b7a4-a6a742547a7c",
   "metadata": {},
   "outputs": [],
   "source": [
    "import pandas as pd\n",
    "import numpy as np\n",
    "import matplotlib.pyplot as plt\n",
    "from minio import Minio\n",
    "import io"
   ]
  },
  {
   "cell_type": "code",
   "execution_count": 10,
   "id": "bcb4fe6c-cd6f-4fed-887c-4c65d8426089",
   "metadata": {},
   "outputs": [],
   "source": [
    "client = Minio('minio1:9000',\n",
    "                access_key='airflow',\n",
    "                secret_key='sample_key',\n",
    "                secure=False)\n",
    "\n",
    "response = client.get_object('gold', 'exchanges_btcbrl.csv')\n",
    "csv_data = response.read().decode('utf-8')\n",
    "df = pd.read_csv(io.StringIO(csv_data))"
   ]
  },
  {
   "cell_type": "code",
   "execution_count": 11,
   "id": "769fb482-5e9c-45a5-8acd-af3043d86a01",
   "metadata": {},
   "outputs": [
    {
     "data": {
      "text/html": [
       "<div>\n",
       "<style scoped>\n",
       "    .dataframe tbody tr th:only-of-type {\n",
       "        vertical-align: middle;\n",
       "    }\n",
       "\n",
       "    .dataframe tbody tr th {\n",
       "        vertical-align: top;\n",
       "    }\n",
       "\n",
       "    .dataframe thead th {\n",
       "        text-align: right;\n",
       "    }\n",
       "</style>\n",
       "<table border=\"1\" class=\"dataframe\">\n",
       "  <thead>\n",
       "    <tr style=\"text-align: right;\">\n",
       "      <th></th>\n",
       "      <th>exchange_name</th>\n",
       "      <th>result.price.last</th>\n",
       "      <th>result.price.high</th>\n",
       "      <th>result.price.low</th>\n",
       "      <th>result.price.change.percentage</th>\n",
       "      <th>result.price.change.absolute</th>\n",
       "      <th>result.volume</th>\n",
       "      <th>result.volumeQuote</th>\n",
       "      <th>datetime</th>\n",
       "    </tr>\n",
       "  </thead>\n",
       "  <tbody>\n",
       "    <tr>\n",
       "      <th>0</th>\n",
       "      <td>binance</td>\n",
       "      <td>146099.0000</td>\n",
       "      <td>147410.0000</td>\n",
       "      <td>145734.0000</td>\n",
       "      <td>-0.000807</td>\n",
       "      <td>-118.0000</td>\n",
       "      <td>41.687260</td>\n",
       "      <td>6.110381e+06</td>\n",
       "      <td>2023-07-17 02:38:22.260000+00:00</td>\n",
       "    </tr>\n",
       "    <tr>\n",
       "      <th>1</th>\n",
       "      <td>bisq</td>\n",
       "      <td>150042.7127</td>\n",
       "      <td>152040.8612</td>\n",
       "      <td>146405.5243</td>\n",
       "      <td>-0.003530</td>\n",
       "      <td>-531.5057</td>\n",
       "      <td>0.174500</td>\n",
       "      <td>2.607401e+04</td>\n",
       "      <td>2023-07-17 02:38:21.743000+00:00</td>\n",
       "    </tr>\n",
       "    <tr>\n",
       "      <th>2</th>\n",
       "      <td>hitbtc</td>\n",
       "      <td>146090.0000</td>\n",
       "      <td>147441.0000</td>\n",
       "      <td>145751.0000</td>\n",
       "      <td>-0.000629</td>\n",
       "      <td>-92.0000</td>\n",
       "      <td>2.029309</td>\n",
       "      <td>2.973884e+05</td>\n",
       "      <td>2023-07-17 02:38:22.442000+00:00</td>\n",
       "    </tr>\n",
       "    <tr>\n",
       "      <th>3</th>\n",
       "      <td>huobi</td>\n",
       "      <td>142000.0000</td>\n",
       "      <td>142000.0000</td>\n",
       "      <td>142000.0000</td>\n",
       "      <td>0.000000</td>\n",
       "      <td>0.0000</td>\n",
       "      <td>0.000580</td>\n",
       "      <td>8.236000e+01</td>\n",
       "      <td>2023-07-17 02:38:22.624000+00:00</td>\n",
       "    </tr>\n",
       "    <tr>\n",
       "      <th>4</th>\n",
       "      <td>kucoin</td>\n",
       "      <td>146889.0000</td>\n",
       "      <td>147489.3000</td>\n",
       "      <td>145785.7000</td>\n",
       "      <td>0.001625</td>\n",
       "      <td>238.3000</td>\n",
       "      <td>0.154620</td>\n",
       "      <td>2.270086e+04</td>\n",
       "      <td>2023-07-17 02:38:22.792000+00:00</td>\n",
       "    </tr>\n",
       "  </tbody>\n",
       "</table>\n",
       "</div>"
      ],
      "text/plain": [
       "  exchange_name  result.price.last  result.price.high  result.price.low  \\\n",
       "0       binance        146099.0000        147410.0000       145734.0000   \n",
       "1          bisq        150042.7127        152040.8612       146405.5243   \n",
       "2        hitbtc        146090.0000        147441.0000       145751.0000   \n",
       "3         huobi        142000.0000        142000.0000       142000.0000   \n",
       "4        kucoin        146889.0000        147489.3000       145785.7000   \n",
       "\n",
       "   result.price.change.percentage  result.price.change.absolute  \\\n",
       "0                       -0.000807                     -118.0000   \n",
       "1                       -0.003530                     -531.5057   \n",
       "2                       -0.000629                      -92.0000   \n",
       "3                        0.000000                        0.0000   \n",
       "4                        0.001625                      238.3000   \n",
       "\n",
       "   result.volume  result.volumeQuote                          datetime  \n",
       "0      41.687260        6.110381e+06  2023-07-17 02:38:22.260000+00:00  \n",
       "1       0.174500        2.607401e+04  2023-07-17 02:38:21.743000+00:00  \n",
       "2       2.029309        2.973884e+05  2023-07-17 02:38:22.442000+00:00  \n",
       "3       0.000580        8.236000e+01  2023-07-17 02:38:22.624000+00:00  \n",
       "4       0.154620        2.270086e+04  2023-07-17 02:38:22.792000+00:00  "
      ]
     },
     "execution_count": 11,
     "metadata": {},
     "output_type": "execute_result"
    }
   ],
   "source": [
    "df"
   ]
  },
  {
   "cell_type": "code",
   "execution_count": 13,
   "id": "4ff92138-2301-4e60-9622-1c8ff4e39f1e",
   "metadata": {},
   "outputs": [
    {
     "data": {
      "image/png": "[encoded data removed]",
      "text/plain": [
       "<Figure size 640x480 with 1 Axes>"
      ]
     },
     "metadata": {},
     "output_type": "display_data"
    }
   ],
   "source": [
    "result = df.groupby('exchange_name').last()\n",
    "result.plot(kind='barh', y='result.price.last')\n",
    "plt.show()"
   ]
  },
  {
   "cell_type": "code",
   "execution_count": null,
   "id": "6093477e-0724-4fc4-8360-f378c5ba5a0c",
   "metadata": {},
   "outputs": [],
   "source": []
  }
 ],
 "metadata": {
  "kernelspec": {
   "display_name": "Python 3 (ipykernel)",
   "language": "python",
   "name": "python3"
  },
  "language_info": {
   "codemirror_mode": {
    "name": "ipython",
    "version": 3
   },
   "file_extension": ".py",
   "mimetype": "text/x-python",
   "name": "python",
   "nbconvert_exporter": "python",
   "pygments_lexer": "ipython3",
   "version": "3.10.6"
  }
 },
 "nbformat": 4,
 "nbformat_minor": 5
}
